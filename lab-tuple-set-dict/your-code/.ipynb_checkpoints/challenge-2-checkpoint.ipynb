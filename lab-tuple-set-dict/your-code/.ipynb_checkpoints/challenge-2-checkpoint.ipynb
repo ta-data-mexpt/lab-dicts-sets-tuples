{
 "cells": [
  {
   "cell_type": "markdown",
   "metadata": {},
   "source": [
    "## Challenge 2: Sets\n",
    "\n",
    "There are a lot to learn about Python Sets and the information presented in the lesson is limited due to its length. To learn Python Sets in depth you are strongly encouraged to review the W3Schools tutorial on [Python Sets Examples and Methods](https://www.w3schools.com/python/python_sets.asp) before you work on this lab. Some difficult questions in this lab have their solutions in the W3Schools tutorial.\n",
    "\n",
    "#### First, import the Python `random` libary"
   ]
  },
  {
   "cell_type": "code",
   "execution_count": 117,
   "metadata": {},
   "outputs": [],
   "source": [
    "import random"
   ]
  },
  {
   "cell_type": "markdown",
   "metadata": {},
   "source": [
    "#### In the cell below, create a list named `sample_list_1` with 80 random values. \n",
    "\n",
    "Requirements:\n",
    "\n",
    "* Each value is an integer falling between 0 and 100.\n",
    "* Each value in the list is unique.\n",
    "\n",
    "Print `sample_list_1` to review its values\n",
    "\n",
    "*Hint: use `random.sample` ([reference](https://docs.python.org/3/library/random.html#random.sample)).*"
   ]
  },
  {
   "cell_type": "code",
   "execution_count": 118,
   "metadata": {},
   "outputs": [
    {
     "name": "stdout",
     "output_type": "stream",
     "text": [
      "[81, 35, 32, 3, 17, 62, 69, 12, 90, 53, 7, 39, 36, 90, 50, 81, 27, 67, 24, 57, 16, 63, 87, 21, 11, 30, 98, 22, 18, 90, 66, 33, 93, 24, 55, 97, 64, 84, 48, 11, 27, 36, 53, 16, 69, 72, 60, 87, 100, 26, 10, 16, 50, 59, 80, 81, 51, 3, 42, 38, 38, 84, 24, 45, 35, 85, 77, 38, 57, 45, 36, 39, 9, 73, 70, 63, 86, 93, 14, 87]\n"
     ]
    }
   ],
   "source": [
    "# Your code here\n",
    "sample_list_1=[]\n",
    "\n",
    "for i in range(80):\n",
    "    sample_list_1.append(random.randint(0,100))\n",
    "\n",
    "print(sample_list_1)"
   ]
  },
  {
   "cell_type": "markdown",
   "metadata": {},
   "source": [
    "#### Convert `sample_list_1` to a set called `set1`. Print the length of the set. Is its length still 80?"
   ]
  },
  {
   "cell_type": "code",
   "execution_count": 119,
   "metadata": {},
   "outputs": [
    {
     "name": "stdout",
     "output_type": "stream",
     "text": [
      "la lista tiene: 80\n",
      "el set tiene: 53\n"
     ]
    }
   ],
   "source": [
    "# Your code here\n",
    "sample_set_1 = {}\n",
    "sample_set_1 = set(sample_list_1)\n",
    "\n",
    "print('la lista tiene:',len(sample_list_1))\n",
    "print('el set tiene:',len(sample_set_1))"
   ]
  },
  {
   "cell_type": "markdown",
   "metadata": {},
   "source": [
    "#### Create another list named `sample_list_2` with 80 random values.\n",
    "\n",
    "Requirements:\n",
    "\n",
    "* Each value is an integer falling between 0 and 100.\n",
    "* The values in the list don't have to be unique.\n",
    "\n",
    "*Hint: Use a FOR loop.*"
   ]
  },
  {
   "cell_type": "code",
   "execution_count": 120,
   "metadata": {},
   "outputs": [
    {
     "name": "stdout",
     "output_type": "stream",
     "text": [
      "[31, 24, 72, 59, 20, 19, 44, 90, 33, 24, 80, 27, 32, 54, 94, 66, 86, 14, 38, 52, 22, 8, 57, 44, 12, 77, 74, 92, 96, 47, 24, 99, 92, 92, 87, 56, 13, 30, 6, 68, 19, 65, 14, 45, 99, 3, 68, 85, 35, 48, 36, 17, 33, 14, 100, 78, 60, 86, 18, 95, 87, 28, 59, 68, 19, 91, 25, 22, 52, 86, 45, 78, 44, 72, 12, 39, 79, 77, 39, 24]\n"
     ]
    }
   ],
   "source": [
    "# Your code here\n",
    "sample_list_2=[]\n",
    "\n",
    "for i in range(80):\n",
    "    sample_list_2.append(random.randint(0,100))\n",
    "\n",
    "print(sample_list_2)"
   ]
  },
  {
   "cell_type": "markdown",
   "metadata": {},
   "source": [
    "#### Convert `sample_list_2` to a set called `set2`. Print the length of the set. Is its length still 80?"
   ]
  },
  {
   "cell_type": "code",
   "execution_count": 121,
   "metadata": {},
   "outputs": [
    {
     "name": "stdout",
     "output_type": "stream",
     "text": [
      "la lista tiene: 80\n",
      "el set tiene: 53\n"
     ]
    }
   ],
   "source": [
    "# Your code here\n",
    "sample_set_2 = {}\n",
    "sample_set_2 = set(sample_list_2)\n",
    "\n",
    "print('la lista tiene:',len(sample_list_2))\n",
    "print('el set tiene:',len(sample_set_2))"
   ]
  },
  {
   "cell_type": "markdown",
   "metadata": {},
   "source": [
    "#### Identify the elements present in `set1` but not in `set2`. Assign the elements to a new set named `set3`."
   ]
  },
  {
   "cell_type": "code",
   "execution_count": 122,
   "metadata": {},
   "outputs": [
    {
     "name": "stdout",
     "output_type": "stream",
     "text": [
      "{7, 9, 10, 11, 16, 21, 26, 42, 50, 51, 53, 55, 62, 63, 64, 67, 69, 70, 73, 81, 84, 93, 97, 98}\n",
      "{7, 9, 10, 11, 16, 21, 26, 42, 50, 51, 53, 55, 62, 63, 64, 67, 69, 70, 73, 81, 84, 93, 97, 98}\n"
     ]
    }
   ],
   "source": [
    "# Your code here\n",
    "sample_list_3 = []\n",
    "for numero in sample_list_1:\n",
    "    if numero not in sample_list_2:\n",
    "        sample_list_3.append(numero)\n",
    "        \n",
    "sample_set_3 = set(sample_list_3)\n",
    "\n",
    "print(sample_set_3)\n",
    "\n",
    "sample_set_32 = sample_set_1.difference(sample_set_2)\n",
    "\n",
    "print(sample_set_32)"
   ]
  },
  {
   "cell_type": "markdown",
   "metadata": {},
   "source": [
    "#### Identify the elements present in `set2` but not in `set1`. Assign the elements to a new set named `set4`."
   ]
  },
  {
   "cell_type": "code",
   "execution_count": 123,
   "metadata": {},
   "outputs": [
    {
     "name": "stdout",
     "output_type": "stream",
     "text": [
      "{6, 8, 13, 19, 20, 25, 28, 31, 44, 47, 52, 54, 56, 65, 68, 74, 78, 79, 91, 92, 94, 95, 96, 99}\n"
     ]
    }
   ],
   "source": [
    "# Your code here\n",
    "sample_set_4 = sample_set_2.difference(sample_set_1)\n",
    "\n",
    "print(sample_set_4)"
   ]
  },
  {
   "cell_type": "markdown",
   "metadata": {},
   "source": [
    "#### Now Identify the elements shared between `set1` and `set2`. Assign the elements to a new set named `set5`."
   ]
  },
  {
   "cell_type": "code",
   "execution_count": 124,
   "metadata": {},
   "outputs": [
    {
     "name": "stdout",
     "output_type": "stream",
     "text": [
      "{3, 12, 14, 17, 18, 22, 24, 27, 30, 32, 33, 35, 36, 38, 39, 45, 48, 57, 59, 60, 66, 72, 77, 80, 85, 86, 87, 90, 100}\n"
     ]
    }
   ],
   "source": [
    "# Your code here\n",
    "sample_set_5 = sample_set_1.intersection(sample_set_2)\n",
    "print(sample_set_5)"
   ]
  },
  {
   "cell_type": "markdown",
   "metadata": {},
   "source": [
    "#### What is the relationship among the following values:\n",
    "\n",
    "* len(set1)\n",
    "* len(set2)\n",
    "* len(set3)\n",
    "* len(set4)\n",
    "* len(set5)\n",
    "\n",
    "Use a math formular to represent that relationship. Test your formular with Python code."
   ]
  },
  {
   "cell_type": "code",
   "execution_count": 125,
   "metadata": {},
   "outputs": [
    {
     "name": "stdout",
     "output_type": "stream",
     "text": [
      "53\n",
      "53\n",
      "24\n",
      "24\n",
      "29\n"
     ]
    }
   ],
   "source": [
    "# Your code here\n",
    "print(len(sample_set_1))\n",
    "print(len(sample_set_2))\n",
    "print(len(sample_set_3))\n",
    "print(len(sample_set_4))\n",
    "print(len(sample_set_5))\n"
   ]
  },
  {
   "cell_type": "markdown",
   "metadata": {},
   "source": [
    "#### Create an empty set called `set6`."
   ]
  },
  {
   "cell_type": "code",
   "execution_count": 126,
   "metadata": {},
   "outputs": [],
   "source": [
    "# Your code here\n",
    "sample_set_6 = {}"
   ]
  },
  {
   "cell_type": "markdown",
   "metadata": {},
   "source": [
    "#### Add `set3` and `set5` to `set6` using the Python Set `update` method."
   ]
  },
  {
   "cell_type": "code",
   "execution_count": 127,
   "metadata": {},
   "outputs": [
    {
     "name": "stdout",
     "output_type": "stream",
     "text": [
      "{3, 7, 9, 10, 11, 12, 14, 16, 17, 18, 21, 22, 24, 26, 27, 30, 32, 33, 35, 36, 38, 39, 42, 45, 48, 50, 51, 53, 55, 57, 59, 60, 62, 63, 64, 66, 67, 69, 70, 72, 73, 77, 80, 81, 84, 85, 86, 87, 90, 93, 97, 98, 100, 101}\n"
     ]
    }
   ],
   "source": [
    "# Your code here\n",
    "sample_set_62 = {101}\n",
    "sample_set_6= sample_set_3.union(sample_set_5)\n",
    "\n",
    "sample_set_62.update(sample_set_5,sample_set_3)\n",
    "print(set(sample_set_62))\n",
    "\n",
    "#para usar update, set 6 debe tener un valor dentro. sino envia error\n",
    "\n"
   ]
  },
  {
   "cell_type": "markdown",
   "metadata": {},
   "source": [
    "#### Check if `set1` and `set6` are equal."
   ]
  },
  {
   "cell_type": "code",
   "execution_count": 128,
   "metadata": {},
   "outputs": [
    {
     "name": "stdout",
     "output_type": "stream",
     "text": [
      "{3, 7, 9, 10, 11, 12, 14, 16, 17, 18, 21, 22, 24, 26, 27, 30, 32, 33, 35, 36, 38, 39, 42, 45, 48, 50, 51, 53, 55, 57, 59, 60, 62, 63, 64, 66, 67, 69, 70, 72, 73, 77, 80, 81, 84, 85, 86, 87, 90, 93, 97, 98, 100}\n",
      "{3, 7, 9, 10, 11, 12, 14, 16, 17, 18, 21, 22, 24, 26, 27, 30, 32, 33, 35, 36, 38, 39, 42, 45, 48, 50, 51, 53, 55, 57, 59, 60, 62, 63, 64, 66, 67, 69, 70, 72, 73, 77, 80, 81, 84, 85, 86, 87, 90, 93, 97, 98, 100}\n"
     ]
    }
   ],
   "source": [
    "# Your code here\n",
    "print(sample_set_1)\n",
    "print(sample_set_6)"
   ]
  },
  {
   "cell_type": "markdown",
   "metadata": {},
   "source": [
    "#### Check if `set1` contains `set2` using the Python Set `issubset` method. Then check if `set1` contains `set3`.*"
   ]
  },
  {
   "cell_type": "code",
   "execution_count": 129,
   "metadata": {},
   "outputs": [
    {
     "name": "stdout",
     "output_type": "stream",
     "text": [
      "False\n",
      "False\n"
     ]
    }
   ],
   "source": [
    "# Your code here\n",
    "print(sample_set_1.issubset(sample_set_2))\n",
    "print(sample_set_1.issubset(sample_set_3))\n"
   ]
  },
  {
   "cell_type": "markdown",
   "metadata": {},
   "source": [
    "#### Using the Python Set `union` method, aggregate `set3`, `set4`, and `set5`. Then aggregate `set1` and `set2`. \n",
    "\n",
    "#### Check if the aggregated values are equal."
   ]
  },
  {
   "cell_type": "code",
   "execution_count": 130,
   "metadata": {},
   "outputs": [
    {
     "name": "stdout",
     "output_type": "stream",
     "text": [
      "SET CON VALORES SET 3, SET 4 Y SET5 \n",
      " {3, 6, 7, 8, 9, 10, 11, 12, 13, 14, 16, 17, 18, 19, 20, 21, 22, 24, 25, 26, 27, 28, 30, 31, 32, 33, 35, 36, 38, 39, 42, 44, 45, 47, 48, 50, 51, 52, 53, 54, 55, 56, 57, 59, 60, 62, 63, 64, 65, 66, 67, 68, 69, 70, 72, 73, 74, 77, 78, 79, 80, 81, 84, 85, 86, 87, 90, 91, 92, 93, 94, 95, 96, 97, 98, 99, 100}\n",
      "SET CON VALORES SET 1, ya no agrega queda igual \n",
      " {3, 6, 7, 8, 9, 10, 11, 12, 13, 14, 16, 17, 18, 19, 20, 21, 22, 24, 25, 26, 27, 28, 30, 31, 32, 33, 35, 36, 38, 39, 42, 44, 45, 47, 48, 50, 51, 52, 53, 54, 55, 56, 57, 59, 60, 62, 63, 64, 65, 66, 67, 68, 69, 70, 72, 73, 74, 77, 78, 79, 80, 81, 84, 85, 86, 87, 90, 91, 92, 93, 94, 95, 96, 97, 98, 99, 100}\n"
     ]
    }
   ],
   "source": [
    "# Your code here\n",
    "sample_set_7= sample_set_3.union(sample_set_4)\n",
    "sample_set_7= sample_set_7.union(sample_set_5)\n",
    "print('SET CON VALORES SET 3, SET 4 Y SET5 \\n',sample_set_7)\n",
    "sample_set_7= sample_set_7.union(sample_set_1)\n",
    "print('SET CON VALORES SET 1, ya no agrega queda igual \\n',sample_set_7)\n",
    "sample_set_7= sample_set_7.union(sample_set_2)\n",
    "\n"
   ]
  },
  {
   "cell_type": "markdown",
   "metadata": {},
   "source": [
    "#### Using the `pop` method, remove the first element from `set1`."
   ]
  },
  {
   "cell_type": "code",
   "execution_count": 131,
   "metadata": {},
   "outputs": [
    {
     "name": "stdout",
     "output_type": "stream",
     "text": [
      "{3, 7, 9, 10, 11, 12, 14, 16, 17, 18, 21, 22, 24, 26, 27, 30, 32, 33, 35, 36, 38, 39, 42, 45, 48, 50, 51, 53, 55, 57, 59, 60, 62, 63, 64, 66, 67, 69, 70, 72, 73, 77, 80, 81, 84, 85, 86, 87, 90, 93, 97, 98, 100}\n"
     ]
    },
    {
     "data": {
      "text/plain": [
       "3"
      ]
     },
     "execution_count": 131,
     "metadata": {},
     "output_type": "execute_result"
    }
   ],
   "source": [
    "# Your code here\n",
    "print(sample_set_1)\n",
    "sample_set_1.pop()\n"
   ]
  },
  {
   "cell_type": "markdown",
   "metadata": {},
   "source": [
    "#### Remove every element in the following list from `set1` if they are present in the set. Print the remaining elements.\n",
    "\n",
    "```\n",
    "list_to_remove = [1, 9, 11, 19, 21, 29, 31, 39, 41, 49, 51, 59, 61, 69, 71, 79, 81, 89, 91, 99]\n",
    "```"
   ]
  },
  {
   "cell_type": "code",
   "execution_count": 135,
   "metadata": {},
   "outputs": [
    {
     "name": "stdout",
     "output_type": "stream",
     "text": [
      "IMPRIMIENDO SET 1: \n",
      " {7, 9, 10, 11, 12, 14, 16, 17, 18, 21, 22, 24, 26, 27, 30, 32, 33, 35, 36, 38, 39, 42, 45, 48, 50, 51, 53, 55, 57, 59, 60, 62, 63, 64, 66, 67, 69, 70, 72, 73, 77, 80, 81, 84, 85, 86, 87, 90, 93, 97, 98, 100}\n",
      "IMPRIMIENDO SET quitando list_to_remove: \n",
      " {7, 10, 12, 14, 16, 17, 18, 22, 24, 26, 27, 30, 32, 33, 35, 36, 38, 42, 45, 48, 50, 53, 55, 57, 60, 62, 63, 64, 66, 67, 70, 72, 73, 77, 80, 84, 85, 86, 87, 90, 93, 97, 98, 100}\n"
     ]
    }
   ],
   "source": [
    "list_to_remove = [1, 9, 11, 19, 21, 29, 31, 39, 41, 49, 51, 59, 61, 69, 71, 79, 81, 89, 91, 99]\n",
    "\n",
    "# Your code here\n",
    "print('IMPRIMIENDO SET 1: \\n',sample_set_1)\n",
    "\n",
    "set_to_remove = set(list_to_remove)\n",
    "\n",
    "sample_set_8 = sample_set_1.difference(set_to_remove)\n",
    "\n",
    "print('IMPRIMIENDO SET quitando list_to_remove: \\n',sample_set_8)"
   ]
  },
  {
   "cell_type": "code",
   "execution_count": null,
   "metadata": {},
   "outputs": [],
   "source": []
  }
 ],
 "metadata": {
  "kernelspec": {
   "display_name": "Python 3 (ipykernel)",
   "language": "python",
   "name": "python3"
  },
  "language_info": {
   "codemirror_mode": {
    "name": "ipython",
    "version": 3
   },
   "file_extension": ".py",
   "mimetype": "text/x-python",
   "name": "python",
   "nbconvert_exporter": "python",
   "pygments_lexer": "ipython3",
   "version": "3.9.12"
  }
 },
 "nbformat": 4,
 "nbformat_minor": 2
}
