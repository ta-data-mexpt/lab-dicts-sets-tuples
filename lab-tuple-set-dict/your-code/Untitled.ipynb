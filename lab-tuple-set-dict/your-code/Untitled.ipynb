{
 "cells": [
  {
   "cell_type": "code",
   "execution_count": 43,
   "metadata": {},
   "outputs": [],
   "source": [
    "import random"
   ]
  },
  {
   "cell_type": "code",
   "execution_count": 15,
   "metadata": {},
   "outputs": [],
   "source": [
    "sample_list_1 = []\n"
   ]
  },
  {
   "cell_type": "code",
   "execution_count": 39,
   "metadata": {},
   "outputs": [
    {
     "ename": "SyntaxError",
     "evalue": "invalid syntax (<ipython-input-39-7edac0d8d512>, line 3)",
     "output_type": "error",
     "traceback": [
      "\u001b[0;36m  File \u001b[0;32m\"<ipython-input-39-7edac0d8d512>\"\u001b[0;36m, line \u001b[0;32m3\u001b[0m\n\u001b[0;31m    lista_de_numeros.insert(i,random.sample([0:101],1))\u001b[0m\n\u001b[0m                                              ^\u001b[0m\n\u001b[0;31mSyntaxError\u001b[0m\u001b[0;31m:\u001b[0m invalid syntax\n"
     ]
    }
   ],
   "source": [
    "lista_de_numeros = []\n",
    "for i in range(80):\n",
    "    lista_de_numeros.insert(i,random.sample([0:101],1))\n",
    "    \n",
    "print(lista_de_numeros)\n"
   ]
  },
  {
   "cell_type": "code",
   "execution_count": 37,
   "metadata": {},
   "outputs": [
    {
     "data": {
      "text/plain": [
       "80"
      ]
     },
     "execution_count": 37,
     "metadata": {},
     "output_type": "execute_result"
    }
   ],
   "source": [
    "len(lista_de_numeros)"
   ]
  },
  {
   "cell_type": "code",
   "execution_count": 63,
   "metadata": {},
   "outputs": [
    {
     "name": "stdout",
     "output_type": "stream",
     "text": [
      "[65, 81, 72, 84, 1, 60, 5, 90, 71, 44, 88, 41, 3, 64, 70, 76, 40, 58, 16, 43, 26, 18, 67, 23, 9, 77, 8, 46, 22, 89, 45, 69, 12, 87, 27, 31, 74, 33, 15, 36, 13, 55, 38, 53, 91, 61, 59, 25, 66, 86, 48, 0, 6, 62, 34, 47, 10, 97, 4, 24, 73, 39, 35, 20, 14, 57, 80, 78, 52, 19, 37, 83, 17, 51, 92, 28, 82, 54, 96, 93]\n",
      "80\n"
     ]
    }
   ],
   "source": [
    "sample_list_1 = [sample([x for x in range(0,101)],80)]\n",
    "sample_list_1 = sample_list_1[0]\n",
    "print(sample_list_1)\n",
    "print(len(sample_list_1))"
   ]
  }
 ],
 "metadata": {
  "kernelspec": {
   "display_name": "Python 3",
   "language": "python",
   "name": "python3"
  },
  "language_info": {
   "codemirror_mode": {
    "name": "ipython",
    "version": 3
   },
   "file_extension": ".py",
   "mimetype": "text/x-python",
   "name": "python",
   "nbconvert_exporter": "python",
   "pygments_lexer": "ipython3",
   "version": "3.8.5"
  }
 },
 "nbformat": 4,
 "nbformat_minor": 4
}
