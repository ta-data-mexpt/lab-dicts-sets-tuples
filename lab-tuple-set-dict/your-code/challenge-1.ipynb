{
  "metadata": {
    "kernelspec": {
      "name": "python",
      "display_name": "Python (Pyodide)",
      "language": "python"
    },
    "language_info": {
      "codemirror_mode": {
        "name": "python",
        "version": 3
      },
      "file_extension": ".py",
      "mimetype": "text/x-python",
      "name": "python",
      "nbconvert_exporter": "python",
      "pygments_lexer": "ipython3",
      "version": "3.8"
    }
  },
  "nbformat_minor": 4,
  "nbformat": 4,
  "cells": [
    {
      "cell_type": "markdown",
      "source": "## Challenge 1: Tuples\n\n#### Do you know you can create tuples with only one element?\n\n**In the cell below, define a variable `tup` with a single element `\"I\"`.**\n\n*Hint: you need to add a comma (`,`) after the single element.*",
      "metadata": {}
    },
    {
      "cell_type": "code",
      "source": "# Your code here\ntup = ('I',)\n",
      "metadata": {
        "trusted": true
      },
      "execution_count": 3,
      "outputs": [
        {
          "execution_count": 3,
          "output_type": "execute_result",
          "data": {
            "text/plain": "tuple"
          },
          "metadata": {}
        }
      ]
    },
    {
      "cell_type": "markdown",
      "source": "#### Print the type of `tup`. \n\nMake sure its type is correct (i.e. *tuple* instead of *str*).",
      "metadata": {}
    },
    {
      "cell_type": "code",
      "source": "# Your code here\ntype(tup)",
      "metadata": {
        "trusted": true
      },
      "execution_count": 4,
      "outputs": [
        {
          "execution_count": 4,
          "output_type": "execute_result",
          "data": {
            "text/plain": "tuple"
          },
          "metadata": {}
        }
      ]
    },
    {
      "cell_type": "markdown",
      "source": "#### Now try to append the following elements to `tup`. \n\nAre you able to do it? Explain.\n\n```\n\"r\", \"o\", \"n\", \"h\", \"a\", \"c\", \"k',\n```",
      "metadata": {}
    },
    {
      "cell_type": "code",
      "source": "# Your code here\ntup = tup('r',)\ntup\n\n# Your explanation here\ntuples are immutable",
      "metadata": {
        "trusted": true
      },
      "execution_count": 8,
      "outputs": [
        {
          "ename": "<class 'TypeError'>",
          "evalue": "'tuple' object is not callable",
          "traceback": [
            "\u001b[0;31m---------------------------------------------------------------------------\u001b[0m",
            "\u001b[0;31mTypeError\u001b[0m                                 Traceback (most recent call last)",
            "Cell \u001b[0;32mIn [8], line 2\u001b[0m\n\u001b[1;32m      1\u001b[0m \u001b[38;5;66;03m# Your code here\u001b[39;00m\n\u001b[0;32m----> 2\u001b[0m tup \u001b[38;5;241m=\u001b[39m \u001b[43mtup\u001b[49m\u001b[43m(\u001b[49m\u001b[38;5;124;43m'\u001b[39;49m\u001b[38;5;124;43mr\u001b[39;49m\u001b[38;5;124;43m'\u001b[39;49m\u001b[43m,\u001b[49m\u001b[43m)\u001b[49m\n\u001b[1;32m      3\u001b[0m tup\n",
            "\u001b[0;31mTypeError\u001b[0m: 'tuple' object is not callable"
          ],
          "output_type": "error"
        }
      ]
    },
    {
      "cell_type": "markdown",
      "source": "#### How about re-assign a new value to an existing tuple?\n\nRe-assign the following elements to `tup`. Are you able to do it? Explain.\n\n```\n\"I\", \"r\", \"o\", \"n\", \"h\", \"a\", \"c\", \"k\"\n```",
      "metadata": {}
    },
    {
      "cell_type": "code",
      "source": "# Your code here\ntup = ('I','r','o','n','h','a','c','k')\ntype(tup)\n# Your explanation here\n",
      "metadata": {
        "trusted": true
      },
      "execution_count": 10,
      "outputs": [
        {
          "execution_count": 10,
          "output_type": "execute_result",
          "data": {
            "text/plain": "tuple"
          },
          "metadata": {}
        }
      ]
    },
    {
      "cell_type": "markdown",
      "source": "#### Split `tup` into `tup1` and `tup2` with 4 elements in each. \n\n`tup1` should be `(\"I\", \"r\", \"o\", \"n\")` and `tup2` should be `(\"h\", \"a\", \"c\", \"k\")`.\n\n*Hint: use positive index numbers for `tup1` assignment and use negative index numbers for `tup2` assignment. Positive index numbers count from the beginning whereas negative index numbers count from the end of the sequence.*\n\nAlso print `tup1` and `tup2`.",
      "metadata": {}
    },
    {
      "cell_type": "code",
      "source": "# Your code here\nlen(tup)\ntup1 = tup[0:4]\nprint(tup1)\n\ntup2 = tup[4:]\nprint(tup2)",
      "metadata": {
        "trusted": true
      },
      "execution_count": 17,
      "outputs": [
        {
          "name": "stdout",
          "text": "('I', 'r', 'o', 'n')\n('h', 'a', 'c', 'k')\n",
          "output_type": "stream"
        }
      ]
    },
    {
      "cell_type": "markdown",
      "source": "#### Add `tup1` and `tup2` into `tup3` using the `+` operator.\n\nThen print `tup3` and check if `tup3` equals to `tup`.",
      "metadata": {}
    },
    {
      "cell_type": "code",
      "source": "# Your code here\ntup3 = tup1 + tup2\nprint(tup3)\ntup3 == tup\n",
      "metadata": {
        "trusted": true
      },
      "execution_count": 20,
      "outputs": [
        {
          "name": "stdout",
          "text": "('I', 'r', 'o', 'n', 'h', 'a', 'c', 'k')\n",
          "output_type": "stream"
        },
        {
          "execution_count": 20,
          "output_type": "execute_result",
          "data": {
            "text/plain": "True"
          },
          "metadata": {}
        }
      ]
    },
    {
      "cell_type": "markdown",
      "source": "#### Count the number of elements in `tup1` and `tup2`. Then add the two counts together and check if the sum is the same as the number of elements in `tup3`",
      "metadata": {}
    },
    {
      "cell_type": "code",
      "source": "# Your code here\nprint(len(tup1))\nprint(len(tup2))\nprint(len(tup3))\nlen(tup1) + len(tup2) == len(tup3)",
      "metadata": {
        "trusted": true
      },
      "execution_count": 25,
      "outputs": [
        {
          "name": "stdout",
          "text": "4\n4\n8\n",
          "output_type": "stream"
        },
        {
          "execution_count": 25,
          "output_type": "execute_result",
          "data": {
            "text/plain": "True"
          },
          "metadata": {}
        }
      ]
    },
    {
      "cell_type": "code",
      "source": "#### What is the index number of `\"h\"` in `tup3`?",
      "metadata": {},
      "execution_count": null,
      "outputs": []
    },
    {
      "cell_type": "code",
      "source": "# Your code here\nprint(tup3.index('h'))",
      "metadata": {
        "trusted": true
      },
      "execution_count": 29,
      "outputs": [
        {
          "name": "stdout",
          "text": "4\n",
          "output_type": "stream"
        }
      ]
    },
    {
      "cell_type": "markdown",
      "source": "#### Now, use a FOR loop to check whether each letter in the following list is present in `tup3`:\n\n```\nletters = [\"a\", \"b\", \"c\", \"d\", \"e\"]\n```\n\nFor each letter you check, print `True` if it is present in `tup3` otherwise print `False`.\n\n*Hint: you only need to loop `letters`. You don't need to loop `tup3` because there is a Python operator `in` you can use. See [reference](https://stackoverflow.com/questions/17920147/how-to-check-if-a-tuple-contains-an-element-in-python).*",
      "metadata": {}
    },
    {
      "cell_type": "code",
      "source": "# Your code here\nletters = [\"a\", \"b\", \"c\", \"d\", \"e\"]\nfor letter in letters:\n    if letter in (tup3):\n        print('True')\n    else:\n        print('False')",
      "metadata": {
        "trusted": true
      },
      "execution_count": 30,
      "outputs": [
        {
          "name": "stdout",
          "text": "True\nFalse\nTrue\nFalse\nFalse\n",
          "output_type": "stream"
        }
      ]
    },
    {
      "cell_type": "markdown",
      "source": "#### How many times does each letter in `letters` appear in `tup3`?\n\nPrint out the number of occurrence of each letter.",
      "metadata": {}
    },
    {
      "cell_type": "code",
      "source": "# Your code here\nletter_d = {}\nfor letter in letters:\n    if letter in (tup3):\n        times = letters.count(letter)\n        letter_d[letter] = times\nletter_d\n    ",
      "metadata": {
        "trusted": true
      },
      "execution_count": 34,
      "outputs": [
        {
          "execution_count": 34,
          "output_type": "execute_result",
          "data": {
            "text/plain": "{'a': 1, 'c': 1}"
          },
          "metadata": {}
        }
      ]
    },
    {
      "cell_type": "code",
      "source": "",
      "metadata": {},
      "execution_count": null,
      "outputs": []
    }
  ]
}