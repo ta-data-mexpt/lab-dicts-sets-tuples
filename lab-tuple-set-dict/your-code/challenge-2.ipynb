{
  "metadata": {
    "kernelspec": {
      "name": "python",
      "display_name": "Python (Pyodide)",
      "language": "python"
    },
    "language_info": {
      "codemirror_mode": {
        "name": "python",
        "version": 3
      },
      "file_extension": ".py",
      "mimetype": "text/x-python",
      "name": "python",
      "nbconvert_exporter": "python",
      "pygments_lexer": "ipython3",
      "version": "3.8"
    }
  },
  "nbformat_minor": 4,
  "nbformat": 4,
  "cells": [
    {
      "cell_type": "markdown",
      "source": "## Challenge 2: Sets\n\nThere are a lot to learn about Python Sets and the information presented in the lesson is limited due to its length. To learn Python Sets in depth you are strongly encouraged to review the W3Schools tutorial on [Python Sets Examples and Methods](https://www.w3schools.com/python/python_sets.asp) before you work on this lab. Some difficult questions in this lab have their solutions in the W3Schools tutorial.\n\n#### First, import the Python `random` libary",
      "metadata": {}
    },
    {
      "cell_type": "code",
      "source": "import random",
      "metadata": {
        "trusted": true
      },
      "execution_count": 2,
      "outputs": []
    },
    {
      "cell_type": "markdown",
      "source": "#### In the cell below, create a list named `sample_list_1` with 80 random values. \n\nRequirements:\n\n* Each value is an integer falling between 0 and 100.\n* Each value in the list is unique.\n\nPrint `sample_list_1` to review its values\n\n*Hint: use `random.sample` ([reference](https://docs.python.org/3/library/random.html#random.sample)).*",
      "metadata": {}
    },
    {
      "cell_type": "code",
      "source": "# Your code here\nimport random\n\nsample_list_1 = list(range(0,80))\nrandom.shuffle(sample_list_1)\nprint(sample_list_1)\nlen(sample_list_1)\n",
      "metadata": {
        "trusted": true
      },
      "execution_count": 42,
      "outputs": [
        {
          "name": "stdout",
          "text": "[48, 78, 52, 34, 29, 50, 73, 74, 36, 63, 26, 0, 12, 40, 67, 13, 58, 35, 32, 38, 79, 16, 37, 61, 70, 5, 41, 19, 30, 21, 44, 42, 17, 47, 33, 6, 66, 69, 43, 46, 4, 28, 71, 7, 39, 55, 23, 31, 2, 8, 54, 59, 22, 3, 20, 11, 75, 64, 60, 62, 76, 15, 49, 77, 65, 51, 56, 18, 53, 14, 1, 68, 10, 45, 27, 24, 57, 25, 72, 9]\n",
          "output_type": "stream"
        },
        {
          "execution_count": 42,
          "output_type": "execute_result",
          "data": {
            "text/plain": "80"
          },
          "metadata": {}
        }
      ]
    },
    {
      "cell_type": "markdown",
      "source": "#### Convert `sample_list_1` to a set called `set1`. Print the length of the set. Is its length still 80?",
      "metadata": {}
    },
    {
      "cell_type": "code",
      "source": "# Your code here\nset1 = set(sample_list_1)\nprint(len(set1))\n",
      "metadata": {
        "trusted": true
      },
      "execution_count": 43,
      "outputs": [
        {
          "name": "stdout",
          "text": "80\n",
          "output_type": "stream"
        }
      ]
    },
    {
      "cell_type": "markdown",
      "source": "#### Create another list named `sample_list_2` with 80 random values.\n\nRequirements:\n\n* Each value is an integer falling between 0 and 100.\n* The values in the list don't have to be unique.\n\n*Hint: Use a FOR loop.*",
      "metadata": {}
    },
    {
      "cell_type": "code",
      "source": "# Your code here\nsample_list_2 = []\nfor number in range(0,80):\n    sample_list_2.append(random.randint(1,100))\nprint(sample_list_2)\nlen(sample_list_2)",
      "metadata": {
        "trusted": true
      },
      "execution_count": 44,
      "outputs": [
        {
          "name": "stdout",
          "text": "[66, 23, 63, 89, 24, 66, 27, 17, 88, 43, 18, 37, 5, 24, 44, 12, 85, 60, 86, 15, 43, 77, 56, 24, 87, 62, 87, 71, 32, 35, 40, 38, 99, 51, 68, 80, 1, 61, 10, 57, 6, 12, 92, 23, 82, 98, 28, 82, 33, 75, 77, 53, 31, 96, 37, 62, 99, 79, 45, 72, 51, 66, 53, 73, 29, 89, 15, 45, 99, 100, 40, 100, 59, 62, 8, 84, 91, 55, 99, 31]\n",
          "output_type": "stream"
        },
        {
          "execution_count": 44,
          "output_type": "execute_result",
          "data": {
            "text/plain": "80"
          },
          "metadata": {}
        }
      ]
    },
    {
      "cell_type": "markdown",
      "source": "#### Convert `sample_list_2` to a set called `set2`. Print the length of the set. Is its length still 80?",
      "metadata": {}
    },
    {
      "cell_type": "code",
      "source": "# Your code here\nset2 = set(sample_list_2)\nprint(len(set2))",
      "metadata": {
        "trusted": true
      },
      "execution_count": 45,
      "outputs": [
        {
          "name": "stdout",
          "text": "56\n",
          "output_type": "stream"
        }
      ]
    },
    {
      "cell_type": "markdown",
      "source": "#### Identify the elements present in `set1` but not in `set2`. Assign the elements to a new set named `set3`.",
      "metadata": {}
    },
    {
      "cell_type": "code",
      "source": "# Your code here\nset3 = set1.difference(set2)\nprint(set3)",
      "metadata": {
        "trusted": true
      },
      "execution_count": 47,
      "outputs": [
        {
          "name": "stdout",
          "text": "{0, 2, 3, 4, 7, 9, 11, 13, 14, 16, 19, 20, 21, 22, 25, 26, 30, 34, 36, 39, 41, 42, 46, 47, 48, 49, 50, 52, 54, 58, 64, 65, 67, 69, 70, 74, 76, 78}\n",
          "output_type": "stream"
        }
      ]
    },
    {
      "cell_type": "markdown",
      "source": "#### Identify the elements present in `set2` but not in `set1`. Assign the elements to a new set named `set4`.",
      "metadata": {}
    },
    {
      "cell_type": "code",
      "source": "# Your code here\nset4 = set2.difference(set1)\nprint(set4)",
      "metadata": {
        "trusted": true
      },
      "execution_count": 48,
      "outputs": [
        {
          "name": "stdout",
          "text": "{96, 98, 99, 100, 80, 82, 84, 85, 86, 87, 88, 89, 91, 92}\n",
          "output_type": "stream"
        }
      ]
    },
    {
      "cell_type": "markdown",
      "source": "#### Now Identify the elements shared between `set1` and `set2`. Assign the elements to a new set named `set5`.",
      "metadata": {}
    },
    {
      "cell_type": "code",
      "source": "# Your code here\nset5 = set1.intersection(set2)\nprint(set5)",
      "metadata": {
        "trusted": true
      },
      "execution_count": 49,
      "outputs": [
        {
          "name": "stdout",
          "text": "{1, 5, 6, 8, 10, 12, 15, 17, 18, 23, 24, 27, 28, 29, 31, 32, 33, 35, 37, 38, 40, 43, 44, 45, 51, 53, 55, 56, 57, 59, 60, 61, 62, 63, 66, 68, 71, 72, 73, 75, 77, 79}\n",
          "output_type": "stream"
        }
      ]
    },
    {
      "cell_type": "markdown",
      "source": "#### What is the relationship among the following values:\n\n* len(set1)\n* len(set2)\n* len(set3)\n* len(set4)\n* len(set5)\n\nUse a math formular to represent that relationship. Test your formular with Python code.",
      "metadata": {}
    },
    {
      "cell_type": "code",
      "source": "# Your code here\n",
      "metadata": {},
      "execution_count": null,
      "outputs": []
    },
    {
      "cell_type": "markdown",
      "source": "#### Create an empty set called `set6`.",
      "metadata": {}
    },
    {
      "cell_type": "code",
      "source": "# Your code here\nset6a = {''}\ntype(set6a)",
      "metadata": {
        "trusted": true
      },
      "execution_count": 68,
      "outputs": [
        {
          "execution_count": 68,
          "output_type": "execute_result",
          "data": {
            "text/plain": "set"
          },
          "metadata": {}
        }
      ]
    },
    {
      "cell_type": "markdown",
      "source": "#### Add `set3` and `set5` to `set6` using the Python Set `update` method.",
      "metadata": {}
    },
    {
      "cell_type": "code",
      "source": "# Your code here\nprint(set6a.update(set5,set3)) #no me salio usando update\n\n\n",
      "metadata": {
        "trusted": true
      },
      "execution_count": 69,
      "outputs": [
        {
          "name": "stdout",
          "text": "None\n",
          "output_type": "stream"
        }
      ]
    },
    {
      "cell_type": "code",
      "source": "#segundo intento usando union\nset6b = {''}\nset6b = set3.union(set5)\nprint(set6b)",
      "metadata": {
        "trusted": true
      },
      "execution_count": 73,
      "outputs": [
        {
          "name": "stdout",
          "text": "{0, 1, 2, 3, 4, 5, 6, 7, 8, 9, 10, 11, 12, 13, 14, 15, 16, 17, 18, 19, 20, 21, 22, 23, 24, 25, 26, 27, 28, 29, 30, 31, 32, 33, 34, 35, 36, 37, 38, 39, 40, 41, 42, 43, 44, 45, 46, 47, 48, 49, 50, 51, 52, 53, 54, 55, 56, 57, 58, 59, 60, 61, 62, 63, 64, 65, 66, 67, 68, 69, 70, 71, 72, 73, 74, 75, 76, 77, 78, 79}\n",
          "output_type": "stream"
        }
      ]
    },
    {
      "cell_type": "markdown",
      "source": "#### Check if `set1` and `set6` are equal.",
      "metadata": {}
    },
    {
      "cell_type": "code",
      "source": "# Your code here\nset1 == set6b",
      "metadata": {
        "trusted": true
      },
      "execution_count": 74,
      "outputs": [
        {
          "execution_count": 74,
          "output_type": "execute_result",
          "data": {
            "text/plain": "True"
          },
          "metadata": {}
        }
      ]
    },
    {
      "cell_type": "markdown",
      "source": "#### Check if `set1` contains `set2` using the Python Set `issubset` method. Then check if `set1` contains `set3`.*",
      "metadata": {}
    },
    {
      "cell_type": "code",
      "source": "# Your code here\nprint(set1.issubset(set2))\nprint(set1.issubset(set3))",
      "metadata": {
        "trusted": true
      },
      "execution_count": 77,
      "outputs": [
        {
          "name": "stdout",
          "text": "False\nTrue\n",
          "output_type": "stream"
        }
      ]
    },
    {
      "cell_type": "markdown",
      "source": "#### Using the Python Set `union` method, aggregate `set3`, `set4`, and `set5`. Then aggregate `set1` and `set2`. \n\n#### Check if the aggregated values are equal.",
      "metadata": {}
    },
    {
      "cell_type": "code",
      "source": "# Your code here\nprint(set3.union(set5,set4,set1,set2))",
      "metadata": {
        "trusted": true
      },
      "execution_count": 79,
      "outputs": [
        {
          "name": "stdout",
          "text": "{0, 1, 2, 3, 4, 5, 6, 7, 8, 9, 10, 11, 12, 13, 14, 15, 16, 17, 18, 19, 20, 21, 22, 23, 24, 25, 26, 27, 28, 29, 30, 31, 32, 33, 34, 35, 36, 37, 38, 39, 40, 41, 42, 43, 44, 45, 46, 47, 48, 49, 50, 51, 52, 53, 54, 55, 56, 57, 58, 59, 60, 61, 62, 63, 64, 65, 66, 67, 68, 69, 70, 71, 72, 73, 74, 75, 76, 77, 78, 79, 80, 82, 84, 85, 86, 87, 88, 89, 91, 92, 96, 98, 99, 100}\n",
          "output_type": "stream"
        }
      ]
    },
    {
      "cell_type": "markdown",
      "source": "#### Using the `pop` method, remove the first element from `set1`.",
      "metadata": {}
    },
    {
      "cell_type": "code",
      "source": "# Your code here\nset1.pop()\nprint(set1)",
      "metadata": {
        "trusted": true
      },
      "execution_count": 80,
      "outputs": [
        {
          "name": "stdout",
          "text": "{1, 2, 3, 4, 5, 6, 7, 8, 9, 10, 11, 12, 13, 14, 15, 16, 17, 18, 19, 20, 21, 22, 23, 24, 25, 26, 27, 28, 29, 30, 31, 32, 33, 34, 35, 36, 37, 38, 39, 40, 41, 42, 43, 44, 45, 46, 47, 48, 49, 50, 51, 52, 53, 54, 55, 56, 57, 58, 59, 60, 61, 62, 63, 64, 65, 66, 67, 68, 69, 70, 71, 72, 73, 74, 75, 76, 77, 78, 79}\n",
          "output_type": "stream"
        }
      ]
    },
    {
      "cell_type": "markdown",
      "source": "#### Remove every element in the following list from `set1` if they are present in the set. Print the remaining elements.\n\n```\nlist_to_remove = [1, 9, 11, 19, 21, 29, 31, 39, 41, 49, 51, 59, 61, 69, 71, 79, 81, 89, 91, 99]\n```",
      "metadata": {}
    },
    {
      "cell_type": "code",
      "source": "# Your code here\nlist_to_remove = [1, 9, 11, 19, 21, 29, 31, 39, 41, 49, 51, 59, 61, 69, 71, 79, 81, 89, 91, 99]\n\nset1_r = set1.intersection(list_to_remove)\n\nset1_updated = {''}\nfor item in (set1_r):\n          set1_updated.add(item)\n        \nprint(set1_updated)      \n\n\n    \n",
      "metadata": {
        "trusted": true
      },
      "execution_count": 97,
      "outputs": [
        {
          "name": "stdout",
          "text": "{'', 1, 69, 71, 39, 9, 41, 11, 79, 49, 29, 19, 51, 21, 59, 61, 31}\n",
          "output_type": "stream"
        }
      ]
    },
    {
      "cell_type": "code",
      "source": "",
      "metadata": {},
      "execution_count": null,
      "outputs": []
    }
  ]
}